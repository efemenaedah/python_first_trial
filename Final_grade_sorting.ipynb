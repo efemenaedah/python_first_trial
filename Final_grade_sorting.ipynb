{
 "cells": [
  {
   "cell_type": "code",
   "execution_count": 4,
   "id": "9514bc7a-ba00-4cc1-b4f2-9abf1683f9c9",
   "metadata": {},
   "outputs": [
    {
     "name": "stdout",
     "output_type": "stream",
     "text": [
      "      ID     Name  Assignment_1  Assignment_2  Quiz_1  Quiz_2  Mid_Term_Exam  \\\n",
      "0  90743     Jake            85            90    97.5   100.0           96.5   \n",
      "1   7284      Joe            69            74   100.0    80.0           85.5   \n",
      "2   7625    Susan            75            80    95.0    95.0           90.0   \n",
      "3   1237      Sol            75            88    85.5    78.5           80.0   \n",
      "4     62    Chris            84            86    95.0    85.0           90.0   \n",
      "5  87452    Tarik            55            68    85.0    86.0           78.0   \n",
      "6   9374    Malik            90            95   100.0   100.0           91.5   \n",
      "7  74586     John            65            75    75.0    68.0           50.0   \n",
      "8  65877     Todd            50            55    56.0    49.0           52.0   \n",
      "9   4258  Rebecca            78            82    71.0    84.0           79.0   \n",
      "\n",
      "   Final_Exam    Average Final_Grades  \n",
      "0        97.5  94.416667           A+  \n",
      "1        87.5  82.666667            A  \n",
      "2        91.0  87.666667            A  \n",
      "3        86.0  82.166667            A  \n",
      "4        91.5  88.583333            A  \n",
      "5        81.5  75.583333            B  \n",
      "6        93.0  94.916667           A+  \n",
      "7        58.5  65.250000            C  \n",
      "8        53.0  52.500000            F  \n",
      "9        80.5  79.083333            B  \n"
     ]
    }
   ],
   "source": [
    "#Requirements\n",
    "#Read and open the csv file \n",
    "#Calculate the average of several columns and generate new columns based on the calculated values\n",
    "#Write a function to determine the letter grades based on the final grades and apply to the new column\n",
    "#Save the the new file \n",
    "\n",
    "#import the panda module\n",
    "import pandas as pd\n",
    "\n",
    "#Open and read the excel csv file\n",
    "df = pd.read_csv(\"Data/Grades_Short.csv\")\n",
    "\n",
    "#Calculate the average of several columns and generate new columns based on the calculated values called 'Average'\n",
    "#Required column needed for the calculating the average is 6, we add colums and divided by 6\n",
    "df[\"Average\"] = (df[\"Assignment_1\"] + df[\"Assignment_2\"] + df[\"Quiz_1\"] + df[\"Quiz_2\"] + df[\"Mid_Term_Exam\"] + df[\"Final_Exam\"]) / 6\n",
    "\n",
    "# writing a function with a conditional statement on the Calculated Average to determine grade range value\n",
    "def  Letter_Grades(Average):\n",
    "        if Average >= 90:\n",
    "                return \"A+\"\n",
    "        elif Average >= 80 and Average < 90:\n",
    "                return \"A\"          \n",
    "        elif Average >= 70 and Average < 80:\n",
    "                return \"B\"\n",
    "        elif Average >= 60 and Average < 70:\n",
    "                return \"C\"\n",
    "        elif Average >= 55 and Average < 60:\n",
    "                return \"D\"\n",
    "        elif Average < 55:\n",
    "                return \"F\"\n",
    "#Applying the function to create a new column\n",
    "df[\"Final_Grades\"] = df[\"Average\"].apply(Letter_Grades)\n",
    "\n",
    "#Saving to a new excel csv file\n",
    "df.to_csv(\"New_Grades_Short.csv\", index=False)\n",
    "\n",
    "#print to view the excel csv file to verify\n",
    "print(df)\n"
   ]
  },
  {
   "cell_type": "code",
   "execution_count": null,
   "id": "e519cf8c-00db-4894-a37a-0db9a54b87c1",
   "metadata": {},
   "outputs": [],
   "source": []
  }
 ],
 "metadata": {
  "kernelspec": {
   "display_name": "Python 3 (ipykernel)",
   "language": "python",
   "name": "python3"
  },
  "language_info": {
   "codemirror_mode": {
    "name": "ipython",
    "version": 3
   },
   "file_extension": ".py",
   "mimetype": "text/x-python",
   "name": "python",
   "nbconvert_exporter": "python",
   "pygments_lexer": "ipython3",
   "version": "3.13.5"
  }
 },
 "nbformat": 4,
 "nbformat_minor": 5
}
